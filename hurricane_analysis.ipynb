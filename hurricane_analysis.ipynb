{
 "cells": [
  {
   "cell_type": "markdown",
   "id": "fd52b0b4",
   "metadata": {},
   "source": [
    "You will work to write several **functions** that organize and manipulate data about Category 5 Hurricanes, the strongest hurricanes as rated by their wind speed. Each one of these functions will use a number of parameters, conditionals, lists, dictionaries, string manipulation, and return statements."
   ]
  },
  {
   "cell_type": "code",
   "execution_count": 1,
   "id": "f2b11f20",
   "metadata": {},
   "outputs": [],
   "source": [
    "# names of hurricanes\n",
    "names = ['Cuba I', 'San Felipe II Okeechobee', 'Bahamas', 'Cuba II', 'CubaBrownsville', 'Tampico', 'Labor Day', 'New England', 'Carol', 'Janet', 'Carla', 'Hattie', 'Beulah', 'Camille', 'Edith', 'Anita', 'David', 'Allen', 'Gilbert', 'Hugo', 'Andrew', 'Mitch', 'Isabel', 'Ivan', 'Emily', 'Katrina', 'Rita', 'Wilma', 'Dean', 'Felix', 'Matthew', 'Irma', 'Maria', 'Michael']\n",
    "\n",
    "# months of hurricanes\n",
    "months = ['October', 'September', 'September', 'November', 'August', 'September', 'September', 'September', 'September', 'September', 'September', 'October', 'September', 'August', 'September', 'September', 'August', 'August', 'September', 'September', 'August', 'October', 'September', 'September', 'July', 'August', 'September', 'October', 'August', 'September', 'October', 'September', 'September', 'October']\n",
    "\n",
    "# years of hurricanes\n",
    "years = [1924, 1928, 1932, 1932, 1933, 1933, 1935, 1938, 1953, 1955, 1961, 1961, 1967, 1969, 1971, 1977, 1979, 1980, 1988, 1989, 1992, 1998, 2003, 2004, 2005, 2005, 2005, 2005, 2007, 2007, 2016, 2017, 2017, 2018]\n",
    "\n",
    "# maximum sustained winds (mph) of hurricanes\n",
    "max_sustained_winds = [165, 160, 160, 175, 160, 160, 185, 160, 160, 175, 175, 160, 160, 175, 160, 175, 175, 190, 185, 160, 175, 180, 165, 165, 160, 175, 180, 185, 175, 175, 165, 180, 175, 160]\n",
    "\n",
    "# areas affected by each hurricane\n",
    "areas_affected = [['Central America', 'Mexico', 'Cuba', 'Florida', 'The Bahamas'], ['Lesser Antilles', 'The Bahamas', 'United States East Coast', 'Atlantic Canada'], ['The Bahamas', 'Northeastern United States'], ['Lesser Antilles', 'Jamaica', 'Cayman Islands', 'Cuba', 'The Bahamas', 'Bermuda'], ['The Bahamas', 'Cuba', 'Florida', 'Texas', 'Tamaulipas'], ['Jamaica', 'Yucatn Peninsula'], ['The Bahamas', 'Florida', 'Georgia', 'The Carolinas', 'Virginia'], ['Southeastern United States', 'Northeastern United States', 'Southwestern Quebec'], ['Bermuda', 'New England', 'Atlantic Canada'], ['Lesser Antilles', 'Central America'], ['Texas', 'Louisiana', 'Midwestern United States'], ['Central America'], ['The Caribbean', 'Mexico', 'Texas'], ['Cuba', 'United States Gulf Coast'], ['The Caribbean', 'Central America', 'Mexico', 'United States Gulf Coast'], ['Mexico'], ['The Caribbean', 'United States East coast'], ['The Caribbean', 'Yucatn Peninsula', 'Mexico', 'South Texas'], ['Jamaica', 'Venezuela', 'Central America', 'Hispaniola', 'Mexico'], ['The Caribbean', 'United States East Coast'], ['The Bahamas', 'Florida', 'United States Gulf Coast'], ['Central America', 'Yucatn Peninsula', 'South Florida'], ['Greater Antilles', 'Bahamas', 'Eastern United States', 'Ontario'], ['The Caribbean', 'Venezuela', 'United States Gulf Coast'], ['Windward Islands', 'Jamaica', 'Mexico', 'Texas'], ['Bahamas', 'United States Gulf Coast'], ['Cuba', 'United States Gulf Coast'], ['Greater Antilles', 'Central America', 'Florida'], ['The Caribbean', 'Central America'], ['Nicaragua', 'Honduras'], ['Antilles', 'Venezuela', 'Colombia', 'United States East Coast', 'Atlantic Canada'], ['Cape Verde', 'The Caribbean', 'British Virgin Islands', 'U.S. Virgin Islands', 'Cuba', 'Florida'], ['Lesser Antilles', 'Virgin Islands', 'Puerto Rico', 'Dominican Republic', 'Turks and Caicos Islands'], ['Central America', 'United States Gulf Coast (especially Florida Panhandle)']]\n",
    "\n",
    "# damages (USD($)) of hurricanes\n",
    "damages = ['Damages not recorded', '100M', 'Damages not recorded', '40M', '27.9M', '5M', 'Damages not recorded', '306M', '2M', '65.8M', '326M', '60.3M', '208M', '1.42B', '25.4M', 'Damages not recorded', '1.54B', '1.24B', '7.1B', '10B', '26.5B', '6.2B', '5.37B', '23.3B', '1.01B', '125B', '12B', '29.4B', '1.76B', '720M', '15.1B', '64.8B', '91.6B', '25.1B']\n",
    "\n",
    "# deaths for each hurricane\n",
    "deaths = [90,4000,16,3103,179,184,408,682,5,1023,43,319,688,259,37,11,2068,269,318,107,65,19325,51,124,17,1836,125,87,45,133,603,138,3057,74]"
   ]
  },
  {
   "cell_type": "code",
   "execution_count": 2,
   "id": "0238a164",
   "metadata": {},
   "outputs": [],
   "source": [
    "# write your update damages function here:\n",
    "def damage_convert(list_of_damages):\n",
    "    updated_damages = []\n",
    "    for damage in list_of_damages:\n",
    "        if damage != 'Damages not recorded':\n",
    "            if \"M\" in damage:\n",
    "                damage = damage.replace('M','')\n",
    "                updated_damages.append(float(damage)*1000000)\n",
    "            if \"B\" in damage:\n",
    "                damage = damage.replace('B','')\n",
    "                updated_damages.append(float(damage)*1000000000)\n",
    "        else:\n",
    "            updated_damages.append(damage)\n",
    "    return updated_damages\n",
    "\n",
    "updated_damages = damage_convert(damages)\n",
    "#print(updated_damages)"
   ]
  },
  {
   "cell_type": "code",
   "execution_count": 11,
   "id": "80bab408",
   "metadata": {
    "scrolled": true
   },
   "outputs": [
    {
     "name": "stdout",
     "output_type": "stream",
     "text": [
      "{'Cuba I': {'Name': 'Cuba I', 'Month': 'October', 'Year': 1924, 'Max Sustained Wind': 165, 'Areas Affected': ['Central America', 'Mexico', 'Cuba', 'Florida', 'The Bahamas'], 'Damages': 'Damages not recorded', 'Deaths': 90}, 'San Felipe II Okeechobee': {'Name': 'San Felipe II Okeechobee', 'Month': 'September', 'Year': 1928, 'Max Sustained Wind': 160, 'Areas Affected': ['Lesser Antilles', 'The Bahamas', 'United States East Coast', 'Atlantic Canada'], 'Damages': 100000000.0, 'Deaths': 4000}, 'Bahamas': {'Name': 'Bahamas', 'Month': 'September', 'Year': 1932, 'Max Sustained Wind': 160, 'Areas Affected': ['The Bahamas', 'Northeastern United States'], 'Damages': 'Damages not recorded', 'Deaths': 16}, 'Cuba II': {'Name': 'Cuba II', 'Month': 'November', 'Year': 1932, 'Max Sustained Wind': 175, 'Areas Affected': ['Lesser Antilles', 'Jamaica', 'Cayman Islands', 'Cuba', 'The Bahamas', 'Bermuda'], 'Damages': 40000000.0, 'Deaths': 3103}, 'CubaBrownsville': {'Name': 'CubaBrownsville', 'Month': 'August', 'Year': 1933, 'Max Sustained Wind': 160, 'Areas Affected': ['The Bahamas', 'Cuba', 'Florida', 'Texas', 'Tamaulipas'], 'Damages': 27900000.0, 'Deaths': 179}, 'Tampico': {'Name': 'Tampico', 'Month': 'September', 'Year': 1933, 'Max Sustained Wind': 160, 'Areas Affected': ['Jamaica', 'Yucatn Peninsula'], 'Damages': 5000000.0, 'Deaths': 184}, 'Labor Day': {'Name': 'Labor Day', 'Month': 'September', 'Year': 1935, 'Max Sustained Wind': 185, 'Areas Affected': ['The Bahamas', 'Florida', 'Georgia', 'The Carolinas', 'Virginia'], 'Damages': 'Damages not recorded', 'Deaths': 408}, 'New England': {'Name': 'New England', 'Month': 'September', 'Year': 1938, 'Max Sustained Wind': 160, 'Areas Affected': ['Southeastern United States', 'Northeastern United States', 'Southwestern Quebec'], 'Damages': 306000000.0, 'Deaths': 682}, 'Carol': {'Name': 'Carol', 'Month': 'September', 'Year': 1953, 'Max Sustained Wind': 160, 'Areas Affected': ['Bermuda', 'New England', 'Atlantic Canada'], 'Damages': 2000000.0, 'Deaths': 5}, 'Janet': {'Name': 'Janet', 'Month': 'September', 'Year': 1955, 'Max Sustained Wind': 175, 'Areas Affected': ['Lesser Antilles', 'Central America'], 'Damages': 65800000.0, 'Deaths': 1023}, 'Carla': {'Name': 'Carla', 'Month': 'September', 'Year': 1961, 'Max Sustained Wind': 175, 'Areas Affected': ['Texas', 'Louisiana', 'Midwestern United States'], 'Damages': 326000000.0, 'Deaths': 43}, 'Hattie': {'Name': 'Hattie', 'Month': 'October', 'Year': 1961, 'Max Sustained Wind': 160, 'Areas Affected': ['Central America'], 'Damages': 60300000.0, 'Deaths': 319}, 'Beulah': {'Name': 'Beulah', 'Month': 'September', 'Year': 1967, 'Max Sustained Wind': 160, 'Areas Affected': ['The Caribbean', 'Mexico', 'Texas'], 'Damages': 208000000.0, 'Deaths': 688}, 'Camille': {'Name': 'Camille', 'Month': 'August', 'Year': 1969, 'Max Sustained Wind': 175, 'Areas Affected': ['Cuba', 'United States Gulf Coast'], 'Damages': 1420000000.0, 'Deaths': 259}, 'Edith': {'Name': 'Edith', 'Month': 'September', 'Year': 1971, 'Max Sustained Wind': 160, 'Areas Affected': ['The Caribbean', 'Central America', 'Mexico', 'United States Gulf Coast'], 'Damages': 25400000.0, 'Deaths': 37}, 'Anita': {'Name': 'Anita', 'Month': 'September', 'Year': 1977, 'Max Sustained Wind': 175, 'Areas Affected': ['Mexico'], 'Damages': 'Damages not recorded', 'Deaths': 11}, 'David': {'Name': 'David', 'Month': 'August', 'Year': 1979, 'Max Sustained Wind': 175, 'Areas Affected': ['The Caribbean', 'United States East coast'], 'Damages': 1540000000.0, 'Deaths': 2068}, 'Allen': {'Name': 'Allen', 'Month': 'August', 'Year': 1980, 'Max Sustained Wind': 190, 'Areas Affected': ['The Caribbean', 'Yucatn Peninsula', 'Mexico', 'South Texas'], 'Damages': 1240000000.0, 'Deaths': 269}, 'Gilbert': {'Name': 'Gilbert', 'Month': 'September', 'Year': 1988, 'Max Sustained Wind': 185, 'Areas Affected': ['Jamaica', 'Venezuela', 'Central America', 'Hispaniola', 'Mexico'], 'Damages': 7100000000.0, 'Deaths': 318}, 'Hugo': {'Name': 'Hugo', 'Month': 'September', 'Year': 1989, 'Max Sustained Wind': 160, 'Areas Affected': ['The Caribbean', 'United States East Coast'], 'Damages': 10000000000.0, 'Deaths': 107}, 'Andrew': {'Name': 'Andrew', 'Month': 'August', 'Year': 1992, 'Max Sustained Wind': 175, 'Areas Affected': ['The Bahamas', 'Florida', 'United States Gulf Coast'], 'Damages': 26500000000.0, 'Deaths': 65}, 'Mitch': {'Name': 'Mitch', 'Month': 'October', 'Year': 1998, 'Max Sustained Wind': 180, 'Areas Affected': ['Central America', 'Yucatn Peninsula', 'South Florida'], 'Damages': 6200000000.0, 'Deaths': 19325}, 'Isabel': {'Name': 'Isabel', 'Month': 'September', 'Year': 2003, 'Max Sustained Wind': 165, 'Areas Affected': ['Greater Antilles', 'Bahamas', 'Eastern United States', 'Ontario'], 'Damages': 5370000000.0, 'Deaths': 51}, 'Ivan': {'Name': 'Ivan', 'Month': 'September', 'Year': 2004, 'Max Sustained Wind': 165, 'Areas Affected': ['The Caribbean', 'Venezuela', 'United States Gulf Coast'], 'Damages': 23300000000.0, 'Deaths': 124}, 'Emily': {'Name': 'Emily', 'Month': 'July', 'Year': 2005, 'Max Sustained Wind': 160, 'Areas Affected': ['Windward Islands', 'Jamaica', 'Mexico', 'Texas'], 'Damages': 1010000000.0, 'Deaths': 17}, 'Katrina': {'Name': 'Katrina', 'Month': 'August', 'Year': 2005, 'Max Sustained Wind': 175, 'Areas Affected': ['Bahamas', 'United States Gulf Coast'], 'Damages': 125000000000.0, 'Deaths': 1836}, 'Rita': {'Name': 'Rita', 'Month': 'September', 'Year': 2005, 'Max Sustained Wind': 180, 'Areas Affected': ['Cuba', 'United States Gulf Coast'], 'Damages': 12000000000.0, 'Deaths': 125}, 'Wilma': {'Name': 'Wilma', 'Month': 'October', 'Year': 2005, 'Max Sustained Wind': 185, 'Areas Affected': ['Greater Antilles', 'Central America', 'Florida'], 'Damages': 29400000000.0, 'Deaths': 87}, 'Dean': {'Name': 'Dean', 'Month': 'August', 'Year': 2007, 'Max Sustained Wind': 175, 'Areas Affected': ['The Caribbean', 'Central America'], 'Damages': 1760000000.0, 'Deaths': 45}, 'Felix': {'Name': 'Felix', 'Month': 'September', 'Year': 2007, 'Max Sustained Wind': 175, 'Areas Affected': ['Nicaragua', 'Honduras'], 'Damages': 720000000.0, 'Deaths': 133}, 'Matthew': {'Name': 'Matthew', 'Month': 'October', 'Year': 2016, 'Max Sustained Wind': 165, 'Areas Affected': ['Antilles', 'Venezuela', 'Colombia', 'United States East Coast', 'Atlantic Canada'], 'Damages': 15100000000.0, 'Deaths': 603}, 'Irma': {'Name': 'Irma', 'Month': 'September', 'Year': 2017, 'Max Sustained Wind': 180, 'Areas Affected': ['Cape Verde', 'The Caribbean', 'British Virgin Islands', 'U.S. Virgin Islands', 'Cuba', 'Florida'], 'Damages': 64800000000.0, 'Deaths': 138}, 'Maria': {'Name': 'Maria', 'Month': 'September', 'Year': 2017, 'Max Sustained Wind': 175, 'Areas Affected': ['Lesser Antilles', 'Virgin Islands', 'Puerto Rico', 'Dominican Republic', 'Turks and Caicos Islands'], 'Damages': 91600000000.0, 'Deaths': 3057}, 'Michael': {'Name': 'Michael', 'Month': 'October', 'Year': 2018, 'Max Sustained Wind': 160, 'Areas Affected': ['Central America', 'United States Gulf Coast (especially Florida Panhandle)'], 'Damages': 25100000000.0, 'Deaths': 74}}\n"
     ]
    }
   ],
   "source": [
    "# write your construct hurricane dictionary function here:\n",
    "def create_hurricane_dict(names, months, years, winds, areas_affected, damages, deaths):\n",
    "    hurricane_dictionary = {}\n",
    "    for i in range(len(names)):\n",
    "        hurricane_dictionary.update({names[i]:{'Name':names[i], 'Month':months[i], 'Year':years[i], 'Max Sustained Wind':winds[i], 'Areas Affected':areas_affected[i],'Damages':damages[i], 'Deaths':deaths[i]}})\n",
    "    return hurricane_dictionary\n",
    "\n",
    "hurricane_dictionary = create_hurricane_dict(names, months, years, max_sustained_winds, areas_affected, updated_damages, deaths)\n",
    "print(hurricane_dictionary)"
   ]
  },
  {
   "cell_type": "code",
   "execution_count": 4,
   "id": "191778be",
   "metadata": {
    "scrolled": true
   },
   "outputs": [],
   "source": [
    "# write your construct hurricane by year dictionary function here:\n",
    "def create_hurricane_dict_year(names, months, years, winds, areas_affected, damages, deaths):\n",
    "    hurricane_dict_by_year = {}\n",
    "    for i in range(len(years)):\n",
    "        if years[i] not in hurricane_dict_by_year:\n",
    "            hurricane_dict_by_year[years[i]] = []\n",
    "            hurricane_dict_by_year[years[i]].append({'Name':names[i], 'Month':months[i], 'Year':years[i], 'Max Sustained Wind':winds[i], 'Areas Affected':areas_affected[i],'Damage':damages[i], 'Deaths':deaths[i]})\n",
    "        elif years[i] in hurricane_dict_by_year:\n",
    "            hurricane_dict_by_year[years[i]].append({'Name':names[i], 'Month':months[i], 'Year':years[i], 'Max Sustained Wind':winds[i], 'Areas Affected':areas_affected[i],'Damage':damages[i], 'Deaths':deaths[i]})\n",
    "    return hurricane_dict_by_year\n",
    "\n",
    "hurricane_dict_by_year = create_hurricane_dict_year(names, months, years, max_sustained_winds, areas_affected, updated_damages, deaths)\n",
    "#print(hurricane_dict_by_year)"
   ]
  },
  {
   "cell_type": "code",
   "execution_count": 5,
   "id": "453bd2ad",
   "metadata": {},
   "outputs": [],
   "source": [
    "# write your count affected areas function here:\n",
    "def affected_area_count(areas_affected):\n",
    "    affected_area_count = {}\n",
    "    for group in areas_affected:\n",
    "        for area in group:\n",
    "            if area not in affected_area_count:\n",
    "                affected_area_count[area] = 1\n",
    "            elif area in affected_area_count:\n",
    "                affected_area_count[area] += 1\n",
    "    return affected_area_count\n",
    "\n",
    "affected_area_count = affected_area_count(areas_affected)\n",
    "#print(affected_area_count)"
   ]
  },
  {
   "cell_type": "code",
   "execution_count": 6,
   "id": "4a79d60f",
   "metadata": {},
   "outputs": [],
   "source": [
    "# write your find most affected area function here:\n",
    "def hit_hardest_area(affected_area_count):\n",
    "    max_key = ''\n",
    "    max_value = 0\n",
    "    for key, value in affected_area_count.items():\n",
    "        if value > max_value:\n",
    "            max_key = key\n",
    "            max_value = value\n",
    "    return \"{} is the area affected by the most hurricanes. It was hit {} times.\".format(max_key, max_value)\n",
    "\n",
    "#print(hit_hardest_area(affected_area_count))"
   ]
  },
  {
   "cell_type": "code",
   "execution_count": 7,
   "id": "29ef01f4",
   "metadata": {},
   "outputs": [],
   "source": [
    "# write your greatest number of deaths function here:\n",
    "def deadliest_hurricane(hurricane_dict):\n",
    "    max_death = 0\n",
    "    deadliest_hurricane = ''\n",
    "    for key, value in hurricane_dict.items():\n",
    "        if value.get('Deaths') > max_death:\n",
    "            deadliest_hurricane = key\n",
    "            max_death = value.get('Deaths')\n",
    "    return \"The deadliest hurricane is {}, which claimed {} lives.\".format(deadliest_hurricane, max_death)\n",
    "\n",
    "#print(deadliest_hurricane(hurricane_dictionary))"
   ]
  },
  {
   "cell_type": "code",
   "execution_count": 8,
   "id": "8cac6903",
   "metadata": {
    "scrolled": true
   },
   "outputs": [],
   "source": [
    "# write your catgeorize by mortality function here:\n",
    "def dict_by_mortality(hurricane_dict):\n",
    "    mortality_scale = {\n",
    "        0:0,\n",
    "        1:100,\n",
    "        2:500,\n",
    "        3:1000,\n",
    "        4:10000\n",
    "    }\n",
    "    hurricane_by_mortality = {0:[],1:[],2:[],3:[],4:[],5:[]}\n",
    "    for value in hurricane_dict.values():\n",
    "        if value.get('Deaths') > 10000:\n",
    "            hurricane_by_mortality[5].append(value)\n",
    "        elif value.get('Deaths') > 1000:\n",
    "            hurricane_by_mortality[4].append(value)\n",
    "        elif value.get('Deaths') > 500:\n",
    "            hurricane_by_mortality[3].append(value)\n",
    "        elif value.get('Deaths') > 100:\n",
    "            hurricane_by_mortality[2].append(value)\n",
    "        elif value.get('Deaths') > 0:\n",
    "            hurricane_by_mortality[1].append(value)\n",
    "        else:\n",
    "            hurricane_by_mortality[0].append(value)\n",
    "    return hurricane_by_mortality\n",
    "\n",
    "hurricane_by_mortality = dict_by_mortality(hurricane_dictionary)\n",
    "#print(hurricane_by_mortality)"
   ]
  },
  {
   "cell_type": "code",
   "execution_count": 17,
   "id": "5922a9a6",
   "metadata": {},
   "outputs": [],
   "source": [
    "# write your greatest damage function here:\n",
    "def costliest_hurricane(hurricane_dict):\n",
    "    greatest_damage = 0\n",
    "    costliest_hurricane = ''\n",
    "    for key, value in hurricane_dict.items():\n",
    "        if value.get('Damages') != 'Damages not recorded':\n",
    "            if float(value.get('Damages')) > greatest_damage:\n",
    "                costliest_hurricane = key\n",
    "                greatest_damage = float(value.get('Damages'))\n",
    "    return \"The costliest hurricane is {}, which costed {} dollars.\".format(costliest_hurricane, greatest_damage)\n",
    "#print(costliest_hurricane(hurricane_dictionary))"
   ]
  },
  {
   "cell_type": "code",
   "execution_count": 21,
   "id": "1c36103b",
   "metadata": {
    "scrolled": true
   },
   "outputs": [],
   "source": [
    "# write your catgeorize by damage function here:\n",
    "def dict_by_damage(hurricane_dict):\n",
    "    damage_scale = {\n",
    "        0: 0,\n",
    "        1: 100000000,\n",
    "        2: 1000000000,\n",
    "        3: 10000000000,\n",
    "        4: 50000000000\n",
    "    }\n",
    "    hurricane_by_damage = {0:[],1:[],2:[],3:[],4:[],5:[]}\n",
    "    for value in hurricane_dict.values():\n",
    "        if value.get('Damages') != 'Damages not recorded':\n",
    "            if float(value.get('Damages')) > 50000000000:\n",
    "                hurricane_by_damage[5].append(value)\n",
    "            elif float(value.get('Damages')) > 10000000000:\n",
    "                hurricane_by_damage[4].append(value)\n",
    "            elif float(value.get('Damages')) > 1000000000:\n",
    "                hurricane_by_damage[3].append(value)\n",
    "            elif float(value.get('Damages')) > 100000000:\n",
    "                hurricane_by_damage[2].append(value)\n",
    "            elif float(value.get('Damages')) > 0:\n",
    "                hurricane_by_damage[1].append(value)\n",
    "            else:\n",
    "                hurricane_by_damage[0].append(value)\n",
    "    return hurricane_by_damage\n",
    "\n",
    "hurricane_by_damage = dict_by_damage(hurricane_dictionary)\n",
    "#print(hurricane_by_damage)"
   ]
  }
 ],
 "metadata": {
  "kernelspec": {
   "display_name": "Python 3",
   "language": "python",
   "name": "python3"
  },
  "language_info": {
   "codemirror_mode": {
    "name": "ipython",
    "version": 3
   },
   "file_extension": ".py",
   "mimetype": "text/x-python",
   "name": "python",
   "nbconvert_exporter": "python",
   "pygments_lexer": "ipython3",
   "version": "3.8.8"
  }
 },
 "nbformat": 4,
 "nbformat_minor": 5
}
